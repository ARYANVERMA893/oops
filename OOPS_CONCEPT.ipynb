{
 "cells": [
  {
   "cell_type": "code",
   "execution_count": 5,
   "id": "d7ede64a",
   "metadata": {},
   "outputs": [
    {
     "name": "stdout",
     "output_type": "stream",
     "text": [
      "I am  Aryan\n"
     ]
    }
   ],
   "source": [
    "# class\n",
    "class Person:\n",
    "    def n(self):\n",
    "        print(\"I am \", self.name)\n",
    "p=Person()\n",
    "p.name=\"Aryan\"\n",
    "p.n()"
   ]
  },
  {
   "cell_type": "code",
   "execution_count": 6,
   "id": "dbe0f972",
   "metadata": {},
   "outputs": [
    {
     "name": "stdout",
     "output_type": "stream",
     "text": [
      "witdth =  5\n",
      "len= 5\n",
      "25\n"
     ]
    }
   ],
   "source": [
    "#self\n",
    "class Rectangle:\n",
    "    def calcArea(self):\n",
    "        return self.h*self.width\n",
    "    def printData(self):\n",
    "        print(\"witdth = \",self.width)\n",
    "        print(\"len=\",self.h)\n",
    "        area=self.calcArea()\n",
    "        \n",
    "        print(area)\n",
    "r=Rectangle()\n",
    "r.width=5\n",
    "r.h=5\n",
    "r.printData()"
   ]
  },
  {
   "cell_type": "code",
   "execution_count": 8,
   "id": "a3e3cc9e",
   "metadata": {},
   "outputs": [
    {
     "name": "stdout",
     "output_type": "stream",
     "text": [
      "5\n"
     ]
    }
   ],
   "source": [
    "#getter\n",
    "class square:\n",
    "    len=5\n",
    "    def get_len(self):\n",
    "        return self.len\n",
    "s=square()\n",
    "print(s.get_len())"
   ]
  },
  {
   "cell_type": "code",
   "execution_count": 9,
   "id": "fa84569d",
   "metadata": {},
   "outputs": [
    {
     "name": "stdout",
     "output_type": "stream",
     "text": [
      "Alice\n"
     ]
    }
   ],
   "source": [
    "class Person:\n",
    "    def __init__(self, name):\n",
    "        self._name = name\n",
    "\n",
    "    def get_name(self):\n",
    "        return self._name\n",
    "\n",
    "# Creating an instance of Person\n",
    "person = Person(\"Alice\")\n",
    "\n",
    "# Accessing the name using the getter method\n",
    "name = person.get_name()\n",
    "print(name)  # Output: Alice\n"
   ]
  },
  {
   "cell_type": "code",
   "execution_count": 10,
   "id": "808078ee",
   "metadata": {},
   "outputs": [],
   "source": [
    "#setter\n",
    "class Person:\n",
    "    def get_data(self):\n",
    "        return self.age\n",
    "    def set_age(self, value):\n",
    "        if value<0:\n",
    "            value=0\n",
    "        "
   ]
  },
  {
   "cell_type": "code",
   "execution_count": 12,
   "id": "d2a56cb8",
   "metadata": {},
   "outputs": [
    {
     "name": "stdout",
     "output_type": "stream",
     "text": [
      "Aryan and 5 \n"
     ]
    }
   ],
   "source": [
    "class Person1:\n",
    "    def __init__(self,name,age):\n",
    "        self.name=name\n",
    "        self.age=age\n",
    "    def display(self):\n",
    "        print(\"%s and %d \"%(self.name,self.age))\n",
    "e=Person1(\"Aryan\",5)\n",
    "e.display()"
   ]
  },
  {
   "cell_type": "code",
   "execution_count": 1,
   "id": "048e7476",
   "metadata": {},
   "outputs": [
    {
     "name": "stdout",
     "output_type": "stream",
     "text": [
      "This function is in parent class.\n",
      "This function is in child class.\n"
     ]
    }
   ],
   "source": [
    "#single level inhe\n",
    "class Parent:\n",
    "    def func1(self):\n",
    "        print(\"This function is in parent class.\")\n",
    " \n",
    " \n",
    "class Child(Parent):\n",
    "    def func2(self):\n",
    "        print(\"This function is in child class.\")\n",
    "c=Child()\n",
    "c.func1()\n",
    "c.func2()\n",
    "    "
   ]
  },
  {
   "cell_type": "code",
   "execution_count": 6,
   "id": "4fdadcb1",
   "metadata": {},
   "outputs": [
    {
     "name": "stdout",
     "output_type": "stream",
     "text": [
      "Aryan\n",
      "XYZ\n"
     ]
    }
   ],
   "source": [
    "#Multiple Inheritance: \n",
    "class Mother:\n",
    "    mothername = \"XYZ\"\n",
    " \n",
    "    def mother(self):\n",
    "        print(self.mothername)\n",
    " \n",
    "# Base class2\n",
    " \n",
    "class Father:\n",
    "    fathername = \"Aryan\"\n",
    " \n",
    "    def father(self):\n",
    "        print(self.fathername)\n",
    " \n",
    "# Derived class\n",
    " \n",
    "class Son(Mother, Father):\n",
    "    def parents(self):\n",
    "        print(\"Father :\", self.fathername)\n",
    "        print(\"Mother :\", self.mothername)\n",
    " \n",
    " \n",
    "# Driver's code\n",
    "s1 = Son()\n",
    "s1.father()\n",
    "s1.mother()"
   ]
  },
  {
   "cell_type": "code",
   "execution_count": 7,
   "id": "d25bbb13",
   "metadata": {},
   "outputs": [
    {
     "name": "stdout",
     "output_type": "stream",
     "text": [
      "Lal mani\n",
      "Grandfather name : Lal mani\n",
      "Father name : Rampal\n",
      "Son name : Prince\n"
     ]
    }
   ],
   "source": [
    " #Python program to demonstrate\n",
    "# multilevel inheritance\n",
    "\n",
    "# Base class\n",
    "\n",
    "\n",
    "class Grandfather:\n",
    "\n",
    "\tdef __init__(self, grandfathername):\n",
    "\t\tself.grandfathername = grandfathername\n",
    "\n",
    "# Intermediate class\n",
    " \n",
    "\n",
    "class Father(Grandfather):\n",
    "\tdef __init__(self, fathername, grandfathername):\n",
    "\t\tself.fathername = fathername\n",
    "\n",
    "\t\t# invoking constructor of Grandfather class\n",
    "\t\tGrandfather.__init__(self, grandfathername)\n",
    "\n",
    "# Derived class\n",
    " \n",
    "\n",
    "class Son(Father):\n",
    "\tdef __init__(self, sonname, fathername, grandfathername):\n",
    "\t\tself.sonname = sonname\n",
    "\n",
    "\t\t# invoking constructor of Father class\n",
    "\t\tFather.__init__(self, fathername, grandfathername)\n",
    "\n",
    "\tdef print_name(self):\n",
    "\t\tprint('Grandfather name :', self.grandfathername)\n",
    "\t\tprint(\"Father name :\", self.fathername)\n",
    "\t\tprint(\"Son name :\", self.sonname)\n",
    "\n",
    "\n",
    "# Driver code\n",
    "s1 = Son('Prince', 'Rampal', 'Lal mani')\n",
    "print(s1.grandfathername)\n",
    "s1.print_name()\n"
   ]
  },
  {
   "cell_type": "code",
   "execution_count": 1,
   "id": "2d0a9479",
   "metadata": {},
   "outputs": [
    {
     "name": "stdout",
     "output_type": "stream",
     "text": [
      "This function is in parent class.\n",
      "This function is in child 1.\n",
      "This function is in parent class.\n",
      "This function is in child 2.\n"
     ]
    }
   ],
   "source": [
    "# Python program to demonstrate\n",
    "# Hierarchical inheritance\n",
    "\n",
    "\n",
    "# Base class\n",
    "class Parent:\n",
    "\tdef func1(self):\n",
    "\t\tprint(\"This function is in parent class.\")\n",
    "\n",
    "# Derived class1\n",
    "\n",
    "\n",
    "class Child1(Parent):\n",
    "\tdef func2(self):\n",
    "\t\tprint(\"This function is in child 1.\")\n",
    "\n",
    "# Derivied class2\n",
    "\n",
    "\n",
    "class Child2(Parent):\n",
    "\tdef func3(self):\n",
    "\t\tprint(\"This function is in child 2.\")\n",
    "\n",
    "\n",
    "# Driver's code\n",
    "object1 = Child1()\n",
    "object2 = Child2()\n",
    "object1.func1()\n",
    "object1.func2()\n",
    "object2.func1()\n",
    "object2.func3()\n"
   ]
  },
  {
   "cell_type": "code",
   "execution_count": 12,
   "id": "8b7bd7dc",
   "metadata": {},
   "outputs": [
    {
     "name": "stdout",
     "output_type": "stream",
     "text": [
      "Hello, I am John. I am 36 years old.\n"
     ]
    }
   ],
   "source": [
    "class Person:\n",
    "    def __init__(self, name, age):\n",
    "        self.name = name\n",
    "        self.age = age\n",
    "\n",
    "    def prin(self):\n",
    "        print(\"Hello, I am \" + self.name + \". I am \" + str(self.age) + \" years old.\")\n",
    "\n",
    "p1 = Person(\"John\", 36)\n",
    "p1.prin()\n"
   ]
  },
  {
   "cell_type": "code",
   "execution_count": 19,
   "id": "c38e2b55",
   "metadata": {},
   "outputs": [
    {
     "name": "stdout",
     "output_type": "stream",
     "text": [
      "100000\n"
     ]
    }
   ],
   "source": [
    "class gd:\n",
    "    def __init__(self, salary):\n",
    "        self.salary = salary\n",
    "\n",
    "class d(gd):\n",
    "    def fun(self):\n",
    "        print(self.salary)  # Accessing the salary attribute from the parent class\n",
    "class c(d):\n",
    "    def fun1(self):\n",
    "        print(50000+ self.salary)\n",
    "\n",
    "# Creating an object of the d class and passing the salary value\n",
    "p = c(50000)\n",
    "\n",
    "# Calling the fun method on the object\n",
    "p.fun1()  # Output: 50000\n"
   ]
  },
  {
   "cell_type": "markdown",
   "id": "5d2f45ce",
   "metadata": {},
   "source": [
    "# encaplusation"
   ]
  },
  {
   "cell_type": "code",
   "execution_count": 5,
   "id": "468b4634",
   "metadata": {},
   "outputs": [
    {
     "name": "stdout",
     "output_type": "stream",
     "text": [
      "Name: John\n",
      "Age: 25\n",
      "Updated Name: Alice\n",
      "Updated Age: 30\n",
      "Age must be a positive value.\n"
     ]
    }
   ],
   "source": [
    "class Person:\n",
    "    def __init__(self, name, age):\n",
    "        self._name = name  # Protected attribute\n",
    "        self.__age = age    # Protected attribute\n",
    "\n",
    "    # Getter method for name\n",
    "    def get_name(self):\n",
    "        return self._name\n",
    "\n",
    "    # Setter method for name\n",
    "    def set_name(self, new_name):\n",
    "        self._name = new_name\n",
    "\n",
    "    # Getter method for age\n",
    "    def get_age(self):\n",
    "        return self.__age\n",
    "\n",
    "    # Setter method for age\n",
    "    def set_age(self, new_age):\n",
    "        if new_age > 0:\n",
    "            self.__age = new_age\n",
    "        else:\n",
    "            print(\"Age must be a positive value.\")\n",
    "\n",
    "# Creating an object of the class\n",
    "person = Person(\"John\", 25)\n",
    "\n",
    "# Accessing and modifying attributes using getter and setter methods\n",
    "print(\"Name:\", person.get_name())\n",
    "print(\"Age:\", person.get_age())\n",
    "\n",
    "person.set_name(\"Alice\")\n",
    "person.set_age(30)\n",
    "\n",
    "print(\"Updated Name:\", person.get_name())\n",
    "print(\"Updated Age:\", person.get_age())\n",
    "\n",
    "# Attempting to set an invalid age\n",
    "person.set_age(-5)\n"
   ]
  },
  {
   "cell_type": "code",
   "execution_count": 1,
   "id": "f7c87bb2",
   "metadata": {},
   "outputs": [
    {
     "name": "stdout",
     "output_type": "stream",
     "text": [
      "Name: John\n",
      "Age: 25\n",
      "New Age: 30\n",
      "Age must be a positive value.\n"
     ]
    }
   ],
   "source": [
    "class Person:\n",
    "    def __init__(self, name, age):\n",
    "        self._name = name  # Protected attribute\n",
    "        self._age = age    # Protected attribute\n",
    "\n",
    "    # Getter method for name\n",
    "    @property\n",
    "    def name(self):\n",
    "        return self._name\n",
    "\n",
    "    # Getter method for age\n",
    "    @property\n",
    "    def age(self):\n",
    "        return self._age\n",
    "\n",
    "    # Setter method for age with validation\n",
    "    @age.setter\n",
    "    def age(self, new_age):\n",
    "        if new_age > 0:\n",
    "            self._age = new_age\n",
    "        else:\n",
    "            print(\"Age must be a positive value.\")\n",
    "\n",
    "# Creating an object of the class\n",
    "person = Person(\"John\", 25)\n",
    "\n",
    "# Accessing attributes using getter methods\n",
    "print(\"Name:\", person.name)\n",
    "print(\"Age:\", person.age)\n",
    "\n",
    "# Modifying age using setter method\n",
    "person.age = 30\n",
    "print(\"New Age:\", person.age)\n",
    "\n",
    "# Attempting to set an invalid age\n",
    "person.age = -5\n"
   ]
  },
  {
   "cell_type": "code",
   "execution_count": 23,
   "id": "25c37646",
   "metadata": {},
   "outputs": [
    {
     "name": "stdout",
     "output_type": "stream",
     "text": [
      "We will call the protected member of base class:  5\n",
      "we will call the modified protected member outside the class:  433\n",
      "Access the protected member of obj_1:  5\n",
      "Access the protected member of obj_2:  433\n"
     ]
    }
   ],
   "source": [
    "# encaplusation\n",
    "class A:\n",
    "    def __init__(self):\n",
    "        self._p=5\n",
    "class B(A):\n",
    "    def __init__(self): \n",
    "        A.__init__(self)  \n",
    "        \n",
    "        print (\"We will call the protected member of base class: \",  self._p)  \n",
    "        \n",
    "        self._p = 433  \n",
    "        print (\"we will call the modified protected member outside the class: \",  self._p)  \n",
    "obj_1 = A()  \n",
    "  \n",
    "obj_2 = B()  \n",
    "  \n",
    "# here, we will call the protected member  \n",
    "# this can be accessed but it should not be done because of convention  \n",
    "print (\"Access the protected member of obj_1: \", obj_1._p)  \n",
    "  \n",
    "# here, we will access the protected variable outside  \n",
    "print (\"Access the protected member of obj_2: \", obj_2._p)  "
   ]
  },
  {
   "cell_type": "code",
   "execution_count": 25,
   "id": "5459286c",
   "metadata": {},
   "outputs": [
    {
     "name": "stdout",
     "output_type": "stream",
     "text": [
      "42\n"
     ]
    }
   ],
   "source": [
    "# by using gitter and sitter on protected\n",
    "\n",
    "class MyClass:\n",
    "    def __init__(self):\n",
    "        self._protected_variable = None  # Protected attribute\n",
    "\n",
    "    # Getter method to access protected attribute\n",
    "    def get_protected_variable(self):\n",
    "        return self._protected_variable\n",
    "\n",
    "    # Setter method to modify protected attribute\n",
    "    def set_protected_variable(self, value):\n",
    "        # You can add validation logic or checks here if needed\n",
    "        self._protected_variable = value\n",
    "\n",
    "# Creating an object of the class\n",
    "obj = MyClass()\n",
    "\n",
    "# Using the setter method to modify the protected attribute\n",
    "obj.set_protected_variable(42)\n",
    "\n",
    "# Using the getter method to access the protected attribute\n",
    "print(obj.get_protected_variable())  # Output: 42\n"
   ]
  },
  {
   "cell_type": "code",
   "execution_count": 29,
   "id": "cc3de5c2",
   "metadata": {},
   "outputs": [
    {
     "name": "stdout",
     "output_type": "stream",
     "text": [
      "77\n",
      "This is a private method\n"
     ]
    }
   ],
   "source": [
    "class MyClass:\n",
    "    def __init__(self):\n",
    "        self.__private_variable = 42  # Private attribute\n",
    "\n",
    "    def __private_method(self):\n",
    "        print(\"This is a private method\")\n",
    "\n",
    "# Creating an object of the class\n",
    "obj = MyClass()\n",
    "obj._MyClass__private_variable=77\n",
    "# Accessing private attribute using name mangling\n",
    "print(obj._MyClass__private_variable)  # Output: 42\n",
    "\n",
    "# Accessing private method using name mangling\n",
    "obj._MyClass__private_method()  # Output: This is a private method\n"
   ]
  },
  {
   "cell_type": "code",
   "execution_count": 30,
   "id": "04dc9cd5",
   "metadata": {},
   "outputs": [
    {
     "name": "stdout",
     "output_type": "stream",
     "text": [
      "42\n",
      "This is a private method\n"
     ]
    }
   ],
   "source": [
    "# getter and setter on private class\n",
    "\n",
    "class MyClass:\n",
    "    def __init__(self):\n",
    "        self.__private_variable = None  # Private attribute\n",
    "\n",
    "    # Getter method to access private attribute\n",
    "    def get_private_variable(self):\n",
    "        return self.__private_variable\n",
    "\n",
    "    # Setter method to modify private attribute\n",
    "    def set_private_variable(self, value):\n",
    "        # You can add validation logic or checks here if needed\n",
    "        self.__private_variable = value\n",
    "\n",
    "    # Private method\n",
    "    def __private_method(self):\n",
    "        print(\"This is a private method\")\n",
    "\n",
    "    # Getter method to access private method\n",
    "    def get_private_method(self):\n",
    "        self.__private_method()\n",
    "\n",
    "# Creating an object of the class\n",
    "obj = MyClass()\n",
    "\n",
    "# Using the setter method to modify the private attribute\n",
    "obj.set_private_variable(42)\n",
    "\n",
    "# Using the getter method to access the private attribute\n",
    "print(obj.get_private_variable())  # Output: 42\n",
    "\n",
    "# Using the getter method to access the private method\n",
    "obj.get_private_method()  # Output: This is a private method\n"
   ]
  },
  {
   "cell_type": "code",
   "execution_count": 31,
   "id": "73323116",
   "metadata": {},
   "outputs": [
    {
     "name": "stdout",
     "output_type": "stream",
     "text": [
      "Woof!\n"
     ]
    }
   ],
   "source": [
    "# method overriding\n",
    "\n",
    "class Animal:\n",
    "    def sound(self):\n",
    "        print(\"Some sound\")\n",
    "\n",
    "class Dog(Animal):\n",
    "    def sound(self):\n",
    "        print(\"Woof!\")\n",
    "\n",
    "dog = Dog()\n",
    "dog.sound()  # Output: Woof!\n"
   ]
  },
  {
   "cell_type": "markdown",
   "id": "d892715a",
   "metadata": {},
   "source": [
    "# ABSTRACTION"
   ]
  },
  {
   "cell_type": "code",
   "execution_count": 33,
   "id": "477d48db",
   "metadata": {},
   "outputs": [
    {
     "name": "stdout",
     "output_type": "stream",
     "text": [
      "4\n",
      "100 km\n",
      "4\n",
      "160 km\n"
     ]
    }
   ],
   "source": [
    "from abc import ABC,abstractmethod\n",
    "class car(ABC):\n",
    "    def show(self):\n",
    "        print(\"4\")\n",
    "    @abstractmethod\n",
    "    def speed(self):\n",
    "        pass\n",
    "\n",
    "class maruti(car):\n",
    "    def speed(self):\n",
    "        print(\"100 km\")\n",
    "class suzuki(car):\n",
    "    def speed(Self):\n",
    "        print(\"160 km\")\n",
    "\n",
    "        \n",
    "m= maruti()\n",
    "m.show()\n",
    "m.speed()\n",
    "\n",
    "s=suzuki()\n",
    "s.show()\n",
    "s.speed()\n",
    "\n",
    "        "
   ]
  },
  {
   "cell_type": "markdown",
   "id": "68d569fc",
   "metadata": {},
   "source": [
    "# polymorphism"
   ]
  },
  {
   "cell_type": "code",
   "execution_count": 26,
   "id": "131a8afd",
   "metadata": {},
   "outputs": [
    {
     "name": "stdout",
     "output_type": "stream",
     "text": [
      "Area: 20\n",
      "Area: 28.259999999999998\n"
     ]
    }
   ],
   "source": [
    "class Shape:\n",
    "    def area(self):\n",
    "        pass\n",
    "\n",
    "class Rectangle(Shape):\n",
    "    def __init__(self, length, width):\n",
    "        self.length = length\n",
    "        self.width = width\n",
    "    \n",
    "    def area(self):\n",
    "        return self.length * self.width\n",
    "\n",
    "class Circle(Shape):\n",
    "    def __init__(self, radius):\n",
    "        self.radius = radius\n",
    "\n",
    "    def area(self):\n",
    "        return 3.14 * self.radius * self.radius\n",
    "# Polymorphic behavior\n",
    "shapes = [Rectangle(5, 4), Circle(3)]\n",
    "for shape in shapes:\n",
    "    print(\"Area:\", shape.area())  # Output will depend on the type of shape\n"
   ]
  },
  {
   "cell_type": "markdown",
   "id": "cb98c21e",
   "metadata": {},
   "source": [
    "with overriding"
   ]
  },
  {
   "cell_type": "code",
   "execution_count": 27,
   "id": "ddb6b621",
   "metadata": {},
   "outputs": [
    {
     "name": "stdout",
     "output_type": "stream",
     "text": [
      "Area: 20\n",
      "Area: 28.259999999999998\n"
     ]
    }
   ],
   "source": [
    "class Shape:\n",
    "    def area(self):\n",
    "        pass\n",
    "\n",
    "class Rectangle(Shape):\n",
    "    def __init__(self, length, width):\n",
    "        self.length = length\n",
    "        self.width = width\n",
    "    \n",
    "    def area(self):\n",
    "        return self.length * self.width\n",
    "\n",
    "class Circle(Shape):\n",
    "    def __init__(self, radius):\n",
    "        self.radius = radius\n",
    "\n",
    "    def area(self):\n",
    "        return 3.14 * self.radius * self.radius\n",
    "\n",
    "# Polymorphic behavior\n",
    "shapes = [Rectangle(5, 4), Circle(3)]\n",
    "for shape in shapes:\n",
    "    print(\"Area:\", shape.area())  # Output will depend on the type of shape\n"
   ]
  },
  {
   "cell_type": "markdown",
   "id": "d677ce50",
   "metadata": {},
   "source": [
    "# Method Overriding: "
   ]
  },
  {
   "cell_type": "code",
   "execution_count": 16,
   "id": "0ed7fc65",
   "metadata": {},
   "outputs": [
    {
     "name": "stdout",
     "output_type": "stream",
     "text": [
      "Some generic sounds:-\n",
      "Bark\n",
      "Bleat\n"
     ]
    }
   ],
   "source": [
    "class Animal:\n",
    "    def make_sound(self):\n",
    "        print(\"Some generic sounds:-\")\n",
    "\n",
    "class Dog(Animal):\n",
    "    def make_sound(self):\n",
    "        print(\"Bark\")\n",
    "\n",
    "class Goat(Animal):\n",
    "    def make_sound(self):\n",
    "        print(\"Bleat\")\n",
    "\n",
    "# Polymorphic behavior\n",
    "def animal_sounds(animal):\n",
    "    animal.make_sound()\n",
    "a=Animal()\n",
    "dog = Dog()\n",
    "goat = Goat()\n",
    "animal_sounds(a)\n",
    "animal_sounds(dog)  # Output: Bark\n",
    "animal_sounds(goat)  # Output: Meow\n"
   ]
  },
  {
   "cell_type": "markdown",
   "id": "89f6a755",
   "metadata": {},
   "source": [
    "# constructor"
   ]
  },
  {
   "cell_type": "code",
   "execution_count": 1,
   "id": "fbfe69b8",
   "metadata": {},
   "outputs": [
    {
     "name": "stdout",
     "output_type": "stream",
     "text": [
      "My car details: 2022 Toyota Camry\n",
      "The 2022 Toyota Camry's engine is now running.\n"
     ]
    }
   ],
   "source": [
    "class Car:\n",
    "    def __init__(self, make, model, year):\n",
    "        # The constructor initializes the attributes of the object\n",
    "        self.make = make\n",
    "        self.model = model\n",
    "        self.year = year\n",
    "        self.is_running = False  # Default value for an additional attribute\n",
    "\n",
    "    def start_engine(self):\n",
    "        print(f\"The {self.year} {self.make} {self.model}'s engine is now running.\")\n",
    "        self.is_running = True\n",
    "\n",
    "# Creating an instance of the Car class\n",
    "my_car = Car(make=\"Toyota\", model=\"Camry\", year=2022)\n",
    "\n",
    "# Accessing attributes\n",
    "print(f\"My car details: {my_car.year} {my_car.make} {my_car.model}\")\n",
    "\n",
    "# Using a method\n",
    "my_car.start_engine()\n"
   ]
  },
  {
   "cell_type": "markdown",
   "id": "27080f74",
   "metadata": {},
   "source": [
    "# method overloading"
   ]
  },
  {
   "cell_type": "code",
   "execution_count": 7,
   "id": "1ef346e6",
   "metadata": {},
   "outputs": [
    {
     "name": "stdout",
     "output_type": "stream",
     "text": [
      "5\n",
      "15\n",
      "30\n"
     ]
    }
   ],
   "source": [
    "class Calculator:\n",
    "    def add(self, a, b=0, c=0):\n",
    "        return a + b + c\n",
    "\n",
    "# Creating an object of the class\n",
    "calculator = Calculator()\n",
    "\n",
    "# Calling the method with different argument combinations\n",
    "result1 = calculator.add(5)\n",
    "result2 = calculator.add(5, 10)\n",
    "result3 = calculator.add(5, 10, 15)\n",
    "\n",
    "print(result1)  # Output: 5\n",
    "print(result2)  # Output: 15\n",
    "print(result3)  # Output: 30\n"
   ]
  },
  {
   "cell_type": "code",
   "execution_count": 18,
   "id": "a9b3e655",
   "metadata": {},
   "outputs": [
    {
     "name": "stdout",
     "output_type": "stream",
     "text": [
      "5\n",
      "15\n",
      "30\n"
     ]
    }
   ],
   "source": [
    "class Calculator:\n",
    "    def add(self, *args):\n",
    "        if len(args) == 1:\n",
    "            return args[0]\n",
    "        elif len(args) == 2:\n",
    "            return args[0] + args[1]\n",
    "        elif len(args) == 3:\n",
    "            return args[0] + args[1] + args[2]\n",
    "        else:\n",
    "            raise ValueError(\"Invalid number of arguments\")\n",
    "\n",
    "# Creating an object of the class\n",
    "calculator = Calculator()\n",
    "\n",
    "# Calling the method with different argument combinations\n",
    "result1 = calculator.add(5)\n",
    "result2 = calculator.add(5, 10)\n",
    "result3 = calculator.add(5, 10, 15)\n",
    "# result4 = calculator.add(15, 5, 10, 15)\n",
    "\n",
    "\n",
    "print(result1)  # Output: 5\n",
    "print(result2)  # Output: 15\n",
    "print(result3)  # Output: 30\n",
    "# print(result4)\n"
   ]
  },
  {
   "cell_type": "code",
   "execution_count": 1,
   "id": "75219bcb",
   "metadata": {},
   "outputs": [
    {
     "name": "stdout",
     "output_type": "stream",
     "text": [
      "Make: Toyota, Model: Corolla, Year: 2022\n"
     ]
    }
   ],
   "source": [
    "class Car:\n",
    "\n",
    "    def set_details(self, make, model, year):\n",
    "        self.make = make\n",
    "        self.model = model\n",
    "        self.year = year\n",
    "\n",
    "    def get_details(self):\n",
    "        return f\"Make: {self.make}, Model: {self.model}, Year: {self.year}\"\n",
    "\n",
    "# Creating a car object with a non-parameterized constructor\n",
    "my_car = Car()\n",
    "\n",
    "# Setting details of the car\n",
    "my_car.set_details(\"Toyota\", \"Corolla\", 2022)\n",
    "\n",
    "# Getting and printing car details\n",
    "print(my_car.get_details())\n"
   ]
  },
  {
   "cell_type": "code",
   "execution_count": 2,
   "id": "e42977a0",
   "metadata": {},
   "outputs": [
    {
     "name": "stdout",
     "output_type": "stream",
     "text": [
      "Make: Toyota, Model: Corolla, Year: 2022\n"
     ]
    }
   ],
   "source": [
    "class Car:\n",
    "    def __init__(self, make, model, year):\n",
    "        self.make = make\n",
    "        self.model = model\n",
    "        self.year = year\n",
    "\n",
    "    def get_details(self):\n",
    "        return f\"Make: {self.make}, Model: {self.model}, Year: {self.year}\"\n",
    "\n",
    "# Creating a car object with a parameterized constructor\n",
    "my_car = Car(\"Toyota\", \"Corolla\", 2022)\n",
    "\n",
    "# Getting and printing car details\n",
    "print(my_car.get_details())\n"
   ]
  },
  {
   "cell_type": "markdown",
   "id": "163d3a34",
   "metadata": {},
   "source": [
    "# public"
   ]
  },
  {
   "cell_type": "code",
   "execution_count": 1,
   "id": "42b63a31",
   "metadata": {},
   "outputs": [
    {
     "name": "stdout",
     "output_type": "stream",
     "text": [
      "I'm public\n",
      "Modified public attribute\n",
      "This is a public method\n"
     ]
    }
   ],
   "source": [
    "class PublicExample:\n",
    "    def __init__(self):\n",
    "        self.public_attr = \"I'm public\"\n",
    "\n",
    "    def public_method(self):\n",
    "        return \"This is a public method\"\n",
    "\n",
    "\n",
    "obj = PublicExample()\n",
    "\n",
    "# Accessing and modifying public attribute\n",
    "print(obj.public_attr)  # Output: I'm public\n",
    "obj.public_attr = \"Modified public attribute\"\n",
    "print(obj.public_attr)  # Output: Modified public attribute\n",
    "\n",
    "# Accessing public method\n",
    "print(obj.public_method())  # Output: This is a public method\n"
   ]
  },
  {
   "cell_type": "markdown",
   "id": "d3a0dc0a",
   "metadata": {},
   "source": [
    "# protected"
   ]
  },
  {
   "cell_type": "code",
   "execution_count": 4,
   "id": "d7844a47",
   "metadata": {},
   "outputs": [
    {
     "name": "stdout",
     "output_type": "stream",
     "text": [
      "None\n",
      "Modified protected attribute\n"
     ]
    }
   ],
   "source": [
    "class ProtectedClass:\n",
    "    def __init__(self):\n",
    "        self._protected_attr = None\n",
    "\n",
    "    def get_protected_attr(self):\n",
    "        return self._protected_attr\n",
    "\n",
    "    def set_protected_attr(self, value):\n",
    "        self._protected_attr = value\n",
    "\n",
    "\n",
    "obj = ProtectedClass()\n",
    "\n",
    "# Accessing and modifying protected attribute using getter and setter\n",
    "print(obj.get_protected_attr())  # Output: None\n",
    "obj.set_protected_attr(\"Modified protected attribute\")\n",
    "print(obj.get_protected_attr())  # Output: Modified protected attribute\n"
   ]
  },
  {
   "cell_type": "code",
   "execution_count": 6,
   "id": "3d3d3848",
   "metadata": {},
   "outputs": [
    {
     "name": "stdout",
     "output_type": "stream",
     "text": [
      "None\n",
      "Modified protected attribute\n"
     ]
    }
   ],
   "source": [
    "class ProtectedClass:\n",
    "    def __init__(self):\n",
    "        self._protected_attr = None\n",
    "\n",
    "    def get_protected_attr(self):\n",
    "        return self._protected_attr\n",
    "\n",
    "    def set_protected_attr(self, value):\n",
    "        self._protected_attr = value\n",
    "\n",
    "\n",
    "class Subclass(ProtectedClass):\n",
    "    def __init__(self):\n",
    "        super().__init__()\n",
    "\n",
    "    def access_protected(self):\n",
    "        # Accessing protected attribute from subclass\n",
    "        print(self._protected_attr)\n",
    "\n",
    "\n",
    "obj = Subclass()\n",
    "\n",
    "# Accessing protected attribute from within the subclass\n",
    "obj.access_protected()  # Output: None\n",
    "\n",
    "# Modifying protected attribute from subclass\n",
    "obj.set_protected_attr(\"Modified protected attribute\")\n",
    "\n",
    "# Accessing modified protected attribute from subclass\n",
    "obj.access_protected()  # Output: Modified protected attribute\n"
   ]
  },
  {
   "cell_type": "markdown",
   "id": "9c48306d",
   "metadata": {},
   "source": [
    "# private"
   ]
  },
  {
   "cell_type": "code",
   "execution_count": 5,
   "id": "b42a0774",
   "metadata": {},
   "outputs": [
    {
     "name": "stdout",
     "output_type": "stream",
     "text": [
      "None\n",
      "Modified private attribute\n"
     ]
    }
   ],
   "source": [
    "class PrivateClass:\n",
    "    def __init__(self):\n",
    "        self.__private_attr = None\n",
    "\n",
    "    def get_private_attr(self):\n",
    "        return self.__private_attr\n",
    "\n",
    "    def set_private_attr(self, value):\n",
    "        self.__private_attr = value\n",
    "\n",
    "\n",
    "obj = PrivateClass()\n",
    "\n",
    "# Accessing and modifying private attribute using getter and setter\n",
    "print(obj.get_private_attr())  # Output: None\n",
    "obj.set_private_attr(\"Modified private attribute\")\n",
    "print(obj.get_private_attr())  # Output: Modified private attribute\n"
   ]
  },
  {
   "cell_type": "code",
   "execution_count": 7,
   "id": "0048adf8",
   "metadata": {},
   "outputs": [
    {
     "name": "stdout",
     "output_type": "stream",
     "text": [
      "None\n",
      "None\n",
      "Modified private attribute\n"
     ]
    }
   ],
   "source": [
    "class PrivateClass:\n",
    "    def __init__(self):\n",
    "        self.__private_attr = None\n",
    "\n",
    "    def get_private_attr(self):\n",
    "        return self.__private_attr\n",
    "\n",
    "    def set_private_attr(self, value):\n",
    "        self.__private_attr = value\n",
    "\n",
    "    def access_private_attr(self):\n",
    "        # Accessing private attribute from inside the class\n",
    "        return self.__private_attr\n",
    "\n",
    "\n",
    "obj = PrivateClass()\n",
    "\n",
    "# Attempting to access private attribute directly from outside the class will raise an AttributeError\n",
    "# print(obj.__private_attr)  # This would raise an AttributeError\n",
    "\n",
    "# Accessing private attribute via a method from outside the class\n",
    "print(obj.get_private_attr())  # Output: None\n",
    "\n",
    "# Attempting to access private attribute directly from a subclass will raise an AttributeError\n",
    "# class Subclass(PrivateClass):\n",
    "#     def access_private_from_subclass(self):\n",
    "#         return self.__private_attr\n",
    "# obj_sub = Subclass()\n",
    "# print(obj_sub.access_private_from_subclass())  # This would raise an AttributeError\n",
    "\n",
    "# Accessing private attribute via a method from inside the class\n",
    "print(obj.access_private_attr())  # Output: None\n",
    "\n",
    "# Modifying private attribute from inside the class\n",
    "obj.set_private_attr(\"Modified private attribute\")\n",
    "\n",
    "# Accessing modified private attribute from inside the class\n",
    "print(obj.access_private_attr())  # Output: Modified private attribute\n"
   ]
  },
  {
   "cell_type": "code",
   "execution_count": 2,
   "id": "437201b5",
   "metadata": {},
   "outputs": [
    {
     "name": "stdout",
     "output_type": "stream",
     "text": [
      "Accessing private variable inside MyClass: 10\n"
     ]
    }
   ],
   "source": [
    "class MyClass:\n",
    "    def __init__(self):\n",
    "        self.__my_private_variable = 10\n",
    "\n",
    "    def get_my_private_variable(self):\n",
    "        return self.__my_private_variable\n",
    "\n",
    "    def set_my_private_variable(self, value):\n",
    "        self.__my_private_variable = value\n",
    "\n",
    "    def access_private_variable(self):\n",
    "        print(\"Accessing private variable inside MyClass:\", self.__my_private_variable)\n",
    "\n",
    "\n",
    "# Create an instance of MyClass\n",
    "obj = MyClass()\n",
    "\n",
    "# Accessing private variable inside MyClass\n",
    "obj.access_private_variable()\n"
   ]
  },
  {
   "cell_type": "markdown",
   "id": "ba0a513e",
   "metadata": {},
   "source": [
    "# super"
   ]
  },
  {
   "cell_type": "code",
   "execution_count": 28,
   "id": "4b1b95b7",
   "metadata": {},
   "outputs": [
    {
     "name": "stdout",
     "output_type": "stream",
     "text": [
      "Parent's name: Alice\n",
      "Child's age: 5\n"
     ]
    }
   ],
   "source": [
    "class Parent:\n",
    "    def __init__(self, name):\n",
    "        self.name = name\n",
    "\n",
    "    def display(self):\n",
    "        print(\"Parent's name:\", self.name)\n",
    "\n",
    "class Child(Parent):\n",
    "    def __init__(self, name, age):\n",
    "        super().__init__(name)  # Calling superclass constructor\n",
    "        self.age = age\n",
    "\n",
    "    def display(self):\n",
    "        super().display()  # Calling superclass method\n",
    "        print(\"Child's age:\", self.age)\n",
    "\n",
    "# Creating an object of Child\n",
    "child = Child(\"Alice\", 5)\n",
    "\n",
    "# Calling the display method of Child\n",
    "child.display()\n"
   ]
  },
  {
   "cell_type": "code",
   "execution_count": null,
   "id": "bcf10b63",
   "metadata": {},
   "outputs": [],
   "source": []
  }
 ],
 "metadata": {
  "kernelspec": {
   "display_name": "Python 3 (ipykernel)",
   "language": "python",
   "name": "python3"
  },
  "language_info": {
   "codemirror_mode": {
    "name": "ipython",
    "version": 3
   },
   "file_extension": ".py",
   "mimetype": "text/x-python",
   "name": "python",
   "nbconvert_exporter": "python",
   "pygments_lexer": "ipython3",
   "version": "3.9.13"
  }
 },
 "nbformat": 4,
 "nbformat_minor": 5
}
